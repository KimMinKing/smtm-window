{
 "cells": [
  {
   "cell_type": "code",
   "execution_count": 6,
   "metadata": {},
   "outputs": [
    {
     "name": "stdout",
     "output_type": "stream",
     "text": [
      "66.0점으로 합격\n"
     ]
    }
   ],
   "source": [
    "sum=0\n",
    "boool=True\n",
    "\n",
    "for i in range(1,6):\n",
    "    num=int(input(f\"과목 {i} 점수는?\"))\n",
    "    sum=sum+num\n",
    "    if num<40: boool=False\n",
    "\n",
    "sum=sum/5\n",
    "if sum>=60 and boool:\n",
    "    print(f\"{sum}점으로 합격\")\n",
    "else:\n",
    "    print(f\"{sum}점으로 불합격\")\n"
   ]
  },
  {
   "cell_type": "code",
   "execution_count": 16,
   "metadata": {},
   "outputs": [
    {
     "name": "stdout",
     "output_type": "stream",
     "text": [
      "52.166666666666664점으로 불합격\n"
     ]
    }
   ],
   "source": [
    "count=0\n",
    "sum=0\n",
    "boool=True\n",
    "\n",
    "while True:\n",
    "    \n",
    "    num=int(input(f\"과목 점수는?\"))\n",
    "\n",
    "    if num<0:\n",
    "        sum=sum/count\n",
    "        if sum>=60 and boool:\n",
    "            print(f\"{sum}점으로 합격\")\n",
    "        else:\n",
    "            print(f\"{sum}점으로 불합격\")\n",
    "        break\n",
    "    sum=sum+num\n",
    "    count=count+1\n",
    "    if num<40: boool=False"
   ]
  },
  {
   "cell_type": "code",
   "execution_count": 18,
   "metadata": {},
   "outputs": [
    {
     "name": "stdout",
     "output_type": "stream",
     "text": [
      "1 ~ 100의 합은 5050\n"
     ]
    }
   ],
   "source": [
    "start=1\n",
    "end=100\n",
    "sum=0\n",
    "for i in range(start,end+1):\n",
    "    sum=sum+i\n",
    "\n",
    "print(f\"{start} ~ {end}의 합은 {sum}\")"
   ]
  },
  {
   "cell_type": "code",
   "execution_count": 23,
   "metadata": {},
   "outputs": [
    {
     "name": "stdout",
     "output_type": "stream",
     "text": [
      "1~101의 합 : 5151\n"
     ]
    }
   ],
   "source": [
    "mok=5053\n",
    "\n",
    "sum=0\n",
    "start=1\n",
    "end=1\n",
    "while True:\n",
    "    sum=end+sum\n",
    "    if sum>=mok:\n",
    "        break\n",
    "    end=end+1\n",
    "\n",
    "print(f\"{start}~{end}의 합 : {sum}\")"
   ]
  },
  {
   "cell_type": "code",
   "execution_count": 42,
   "metadata": {},
   "outputs": [
    {
     "name": "stdout",
     "output_type": "stream",
     "text": [
      "18\n",
      "Python programming\n",
      "ython programming\n",
      "thon programming\n",
      "hon programming\n",
      "on programming\n",
      "n programming\n",
      " programming\n",
      "programming\n",
      "rogramming\n",
      "ogramming\n",
      "gramming\n",
      "ramming\n",
      "amming\n",
      "mming\n",
      "ming\n",
      "ing\n",
      "ng\n",
      "g\n",
      "\n"
     ]
    }
   ],
   "source": [
    "str = \"Python programming\"\n",
    "slen = len(str)\n",
    "print(slen)\n",
    "\n",
    "for i in range(slen):\n",
    "    #print(str[-i-1], end=\"\")\n",
    "    for j in range(i,slen):\n",
    "        print(str[j], end=\"\")\n",
    "    print()\n",
    "\n",
    "print()"
   ]
  },
  {
   "cell_type": "code",
   "execution_count": 50,
   "metadata": {},
   "outputs": [
    {
     "name": "stdout",
     "output_type": "stream",
     "text": [
      "18\n",
      "g\n",
      "ng\n",
      "ing\n",
      "ming\n",
      "mming\n",
      "amming\n",
      "ramming\n",
      "gramming\n",
      "ogramming\n",
      "rogramming\n",
      "programming\n",
      " programming\n",
      "n programming\n",
      "on programming\n",
      "hon programming\n",
      "thon programming\n",
      "ython programming\n",
      "Python programming\n",
      "\n"
     ]
    }
   ],
   "source": [
    "str = \"Python programming\"\n",
    "slen = len(str)\n",
    "print(slen)\n",
    "\n",
    "for i in range(slen):\n",
    "    #print(str[-i-1], end=\"\")\n",
    "    for j in range(slen-i-1,slen):\n",
    "        print(str[j], end=\"\")\n",
    "    print()\n",
    "\n",
    "print()"
   ]
  },
  {
   "cell_type": "code",
   "execution_count": 56,
   "metadata": {},
   "outputs": [
    {
     "name": "stdout",
     "output_type": "stream",
     "text": [
      "Python programmiython programminthon programmihon programminon programmin programming"
     ]
    },
    {
     "ename": "KeyboardInterrupt",
     "evalue": "",
     "output_type": "error",
     "traceback": [
      "\u001b[1;31m---------------------------------------------------------------------------\u001b[0m",
      "\u001b[1;31mKeyboardInterrupt\u001b[0m                         Traceback (most recent call last)",
      "Cell \u001b[1;32mIn[56], line 11\u001b[0m\n\u001b[0;32m      9\u001b[0m     \u001b[38;5;28mprint\u001b[39m(\u001b[38;5;124m\"\u001b[39m\u001b[38;5;132;01m%c\u001b[39;00m\u001b[38;5;124m\"\u001b[39m \u001b[38;5;241m%\u001b[39m str_value[j], end\u001b[38;5;241m=\u001b[39m\u001b[38;5;124m'\u001b[39m\u001b[38;5;124m'\u001b[39m)\n\u001b[0;32m     10\u001b[0m \u001b[38;5;66;03m# 1초 대기\u001b[39;00m\n\u001b[1;32m---> 11\u001b[0m time\u001b[38;5;241m.\u001b[39msleep(\u001b[38;5;241m1\u001b[39m)\n\u001b[0;32m     12\u001b[0m \u001b[38;5;66;03m# 백스페이스로 이동하여 이전 문자열을 지우기\u001b[39;00m\n\u001b[0;32m     13\u001b[0m \u001b[38;5;28;01mfor\u001b[39;00m _ \u001b[38;5;129;01min\u001b[39;00m \u001b[38;5;28mrange\u001b[39m(i, str_len):\n",
      "\u001b[1;31mKeyboardInterrupt\u001b[0m: "
     ]
    }
   ],
   "source": [
    "import time\n",
    "\n",
    "str_value = \"Python programming\"\n",
    "str_len = len(str_value)\n",
    "\n",
    "for i in range(str_len):\n",
    "    # 문자열을 좌에서 우로 이동하며 출력\n",
    "    for j in range(i, str_len):\n",
    "        print(\"%c\" % str_value[j], end='')\n",
    "    # 1초 대기\n",
    "    time.sleep(1)\n",
    "    # 백스페이스로 이동하여 이전 문자열을 지우기\n",
    "    for _ in range(i, str_len):\n",
    "        print(\"\\b\", end='')\n"
   ]
  },
  {
   "cell_type": "code",
   "execution_count": 58,
   "metadata": {},
   "outputs": [
    {
     "name": "stdout",
     "output_type": "stream",
     "text": [
      "05"
     ]
    },
    {
     "ename": "KeyboardInterrupt",
     "evalue": "",
     "output_type": "error",
     "traceback": [
      "\u001b[1;31m---------------------------------------------------------------------------\u001b[0m",
      "\u001b[1;31mKeyboardInterrupt\u001b[0m                         Traceback (most recent call last)",
      "Cell \u001b[1;32mIn[58], line 4\u001b[0m\n\u001b[0;32m      1\u001b[0m \u001b[38;5;28;01mfor\u001b[39;00m i \u001b[38;5;129;01min\u001b[39;00m \u001b[38;5;28mrange\u001b[39m(\u001b[38;5;241m10\u001b[39m):\n\u001b[0;32m      3\u001b[0m     \u001b[38;5;28mprint\u001b[39m(\u001b[38;5;124m\"\u001b[39m\u001b[38;5;132;01m%02d\u001b[39;00m\u001b[38;5;124m\"\u001b[39m \u001b[38;5;241m%\u001b[39mi, end\u001b[38;5;241m=\u001b[39m\u001b[38;5;124m'\u001b[39m\u001b[38;5;124m'\u001b[39m)\n\u001b[1;32m----> 4\u001b[0m     time\u001b[38;5;241m.\u001b[39msleep(i)\n\u001b[0;32m      5\u001b[0m     \u001b[38;5;28mprint\u001b[39m(\u001b[38;5;124m\"\u001b[39m\u001b[38;5;130;01m\\b\u001b[39;00m\u001b[38;5;130;01m\\b\u001b[39;00m\u001b[38;5;124m\"\u001b[39m, end\u001b[38;5;241m=\u001b[39m\u001b[38;5;124m'\u001b[39m\u001b[38;5;124m'\u001b[39m)\n",
      "\u001b[1;31mKeyboardInterrupt\u001b[0m: "
     ]
    }
   ],
   "source": [
    "for i in range(10):\n",
    "\n",
    "    print(\"%02d\" %i, end='')\n",
    "    time.sleep(i)\n",
    "    print(\"\\b\\b\", end='')"
   ]
  },
  {
   "cell_type": "code",
   "execution_count": null,
   "metadata": {},
   "outputs": [],
   "source": []
  }
 ],
 "metadata": {
  "kernelspec": {
   "display_name": "base",
   "language": "python",
   "name": "python3"
  },
  "language_info": {
   "codemirror_mode": {
    "name": "ipython",
    "version": 3
   },
   "file_extension": ".py",
   "mimetype": "text/x-python",
   "name": "python",
   "nbconvert_exporter": "python",
   "pygments_lexer": "ipython3",
   "version": "3.11.5"
  }
 },
 "nbformat": 4,
 "nbformat_minor": 2
}
